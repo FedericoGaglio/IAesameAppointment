{
 "cells": [
  {
   "cell_type": "code",
   "execution_count": null,
   "metadata": {},
   "outputs": [],
   "source": [
    "#!pip freeze > requirements.txt"
   ]
  },
  {
   "cell_type": "code",
   "execution_count": null,
   "metadata": {},
   "outputs": [],
   "source": [
    "import pandas as pd\n",
    "import numpy as np\n",
    "import seaborn as sns\n",
    "import matplotlib.pyplot as plt\n",
    "from sklearn.metrics import accuracy_score\n",
    "from sklearn.tree import DecisionTreeClassifier\n",
    "from sklearn.model_selection import train_test_split\n",
    "%matplotlib inline"
   ]
  },
  {
   "cell_type": "code",
   "execution_count": null,
   "metadata": {},
   "outputs": [],
   "source": [
    "dataset = pd.read_csv('dataset/appointment_data.csv')"
   ]
  },
  {
   "cell_type": "code",
   "execution_count": null,
   "metadata": {},
   "outputs": [],
   "source": [
    "#divisione in classi età\n",
    "def age_division(dataset):\n",
    "    \n",
    "    dataset= dataset.copy()\n",
    "\n",
    "    age = np.asanyarray(dataset['Age'])\n",
    " \n",
    "    for i in range(0, age.size):\n",
    "        if 0 <= age[i] <= 20:\n",
    "            age[i] = 0\n",
    "        elif 21 <= age[i] <= 40:\n",
    "            age[i] = 1\n",
    "        elif 41 <= age[i] <= 90:\n",
    "            age[i] = 2\n",
    "        else:\n",
    "            age[i] = 3\n",
    "            \n",
    "    dataset['Age'] = pd.DataFrame(age)\n",
    "    \n",
    "    return dataset"
   ]
  },
  {
   "cell_type": "code",
   "execution_count": null,
   "metadata": {},
   "outputs": [],
   "source": [
    "def days_of_waiting(dataset):\n",
    "    \n",
    "    dataset= dataset.copy()\n",
    "\n",
    "    waiting_days= []\n",
    "\n",
    "    for i in range(dataset.shape[0]):\n",
    "\n",
    "        data_Scheduled, ora_Scheduled= dataset['ScheduledDay'].loc[i].split('T')\n",
    "        data_Appointment, ora_Appointment= dataset['AppointmentDay'].loc[i].split('T')\n",
    "\n",
    "        annoS, meseS, giornoS= data_Scheduled.split('-')\n",
    "        annoA, meseA, giornoA= data_Appointment.split('-')\n",
    "\n",
    "        months_difference= (int(meseA)-int(meseS))*30 #ipotizzo tutti i mesi di 30\n",
    "\n",
    "        if(int(annoS)==int(annoA)):\n",
    "            if(int(meseS)==int(meseA)):\n",
    "                if(int(giornoS)==int(giornoA)):\n",
    "                    waiting_days.append(0)\n",
    "                else:\n",
    "                    waiting_days.append(abs(int(giornoA)-int(giornoS)))\n",
    "            else:\n",
    "                waiting_days.append(abs(int(giornoA)+months_difference-int(giornoS)))\n",
    "        else:\n",
    "            years_difference= (int(annoA)-int(annoS))*365\n",
    "            waiting_days.append(abs(int(giornoA)+months_difference+years_difference-int(giornoS)))                        \n",
    "\n",
    "    dataset['days_of_waiting'] = waiting_days\n",
    "    \n",
    "    return dataset"
   ]
  },
  {
   "cell_type": "code",
   "execution_count": null,
   "metadata": {},
   "outputs": [],
   "source": [
    "#heatmap per la selezione delle features     \n",
    "correlation = dataset.corr()\n",
    "plt.figure(figsize=(18,18))\n",
    "sns.heatmap(correlation, vmax=1, square=True,annot=True,cmap='cubehelix')\n",
    "plt.title('Correlation between different features')"
   ]
  },
  {
   "cell_type": "code",
   "execution_count": null,
   "metadata": {},
   "outputs": [],
   "source": [
    "def transf(dataset):\n",
    "    \n",
    "    dataset= dataset.copy()\n",
    "    \n",
    "    dataset= age_division(dataset)\n",
    "    dataset= days_of_waiting(dataset)\n",
    "    \n",
    "    dataset = dataset.drop(columns=['AppointmentDay','AppointmentID','Gender','Neighbourhood','PatientId','ScheduledDay'])\n",
    "    \n",
    "    return dataset"
   ]
  },
  {
   "cell_type": "code",
   "execution_count": null,
   "metadata": {},
   "outputs": [],
   "source": [
    "train_csv = pd.read_csv('dataset/train.csv')"
   ]
  },
  {
   "cell_type": "code",
   "execution_count": null,
   "metadata": {},
   "outputs": [],
   "source": [
    "test_csv = pd.read_csv('dataset/test.csv')"
   ]
  },
  {
   "cell_type": "code",
   "execution_count": null,
   "metadata": {},
   "outputs": [],
   "source": [
    "train = transf(train_csv.copy())\n",
    "test = transf(test_csv.copy())"
   ]
  },
  {
   "cell_type": "code",
   "execution_count": null,
   "metadata": {},
   "outputs": [],
   "source": [
    "Y_train, Y_test = train['No-show'], test['No-show']\n",
    "X_train, X_test = train.drop(columns=['No-show']), test.drop(columns=['No-show'])"
   ]
  },
  {
   "cell_type": "code",
   "execution_count": null,
   "metadata": {},
   "outputs": [],
   "source": [
    "tr = DecisionTreeClassifier(criterion='entropy', random_state=0, max_depth=5)\n",
    "\n",
    "\n",
    "#fit e prediction\n",
    "tr.fit(X_train, Y_train)\n",
    "pred = tr.predict(X_test)\n",
    "print('Accuracy:',accuracy_score(Y_test, pred))"
   ]
  },
  {
   "cell_type": "code",
   "execution_count": null,
   "metadata": {},
   "outputs": [],
   "source": []
  }
 ],
 "metadata": {
  "kernelspec": {
   "display_name": "Python 3",
   "language": "python",
   "name": "python3"
  },
  "language_info": {
   "codemirror_mode": {
    "name": "ipython",
    "version": 3
   },
   "file_extension": ".py",
   "mimetype": "text/x-python",
   "name": "python",
   "nbconvert_exporter": "python",
   "pygments_lexer": "ipython3",
   "version": "3.7.6"
  }
 },
 "nbformat": 4,
 "nbformat_minor": 4
}
